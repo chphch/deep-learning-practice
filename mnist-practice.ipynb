{
 "cells": [
  {
   "cell_type": "code",
   "execution_count": null,
   "metadata": {},
   "outputs": [],
   "source": [
    "from keras.datasets import mnist\n",
    "import numpy as np\n",
    "\n",
    "BATCH_SIEZ = 128\n",
    "NUM_CLASSES = 10\n",
    "EPOCH_NUM = 12\n",
    "IMG_SIZE = (28, 28)\n",
    "\n",
    "(X_train, y_train), (X_test, y_test) = mnist.load_data()\n",
    "print X_train.shape, y_train.shape, X_test.shape, y_test.shape\n",
    "X_train = X_train.reshape(-1, 1, 28, 28).astype(np.float32)\n",
    "y_train = y_train.astype(np.int32)\n",
    "X_test = X_test.reshape(-1, 1, 28, 28).astype(np.float32)\n",
    "y_test = y_test.astype(np.int32)\n",
    "print X_train.shape, y_train.shape, X_test.shape, y_test.shape"
   ]
  },
  {
   "cell_type": "code",
   "execution_count": null,
   "metadata": {
    "scrolled": false
   },
   "outputs": [],
   "source": [
    "import lasagne\n",
    "import theano\n",
    "import theano.tensor as T\n",
    "\n",
    "print 'theano device: {}'.format(theano.config.device)\n",
    "\n",
    "# create Theano variables for input and target minibatch\n",
    "input_var = T.tensor4('X')\n",
    "target_var = T.ivector('y')\n",
    "\n",
    "# create a small convolutional neural network\n",
    "from lasagne.nonlinearities import leaky_rectify, softmax\n",
    "network = lasagne.layers.InputLayer((None, 1, 28, 28), input_var)\n",
    "print network.output_shape\n",
    "network = lasagne.layers.Conv2DLayer(network, 64, (3, 3),\n",
    "                                     nonlinearity=leaky_rectify)\n",
    "print network.output_shape\n",
    "network = lasagne.layers.Conv2DLayer(network, 32, (3, 3),\n",
    "                                     nonlinearity=leaky_rectify)\n",
    "print network.output_shape\n",
    "network = lasagne.layers.Pool2DLayer(network, (3, 3), stride=2, mode='max')\n",
    "print network.output_shape\n",
    "network = lasagne.layers.DenseLayer(lasagne.layers.dropout(network, 0.5),\n",
    "                                    128, nonlinearity=leaky_rectify,\n",
    "                                    W=lasagne.init.Orthogonal())\n",
    "print network.output_shape\n",
    "network = lasagne.layers.DenseLayer(lasagne.layers.dropout(network, 0.5),\n",
    "                                    10, nonlinearity=softmax)\n",
    "print network.output_shape\n",
    "\n",
    "# create loss function\n",
    "prediction = lasagne.layers.get_output(network)\n",
    "loss = lasagne.objectives.categorical_crossentropy(prediction, target_var)\n",
    "loss = loss.mean() + 1e-4 * lasagne.regularization.regularize_network_params(\n",
    "        network, lasagne.regularization.l2)\n",
    "\n",
    "# create parameter update expressions\n",
    "params = lasagne.layers.get_all_params(network, trainable=True)\n",
    "updates = lasagne.updates.nesterov_momentum(loss, params, learning_rate=0.001,\n",
    "                                            momentum=0.9)\n",
    "\n",
    "# compile training function that updates parameters and returns training loss\n",
    "train_fn = theano.function([input_var, target_var], loss, updates=updates)"
   ]
  },
  {
   "cell_type": "code",
   "execution_count": null,
   "metadata": {
    "scrolled": true
   },
   "outputs": [],
   "source": [
    "def iterate_minibatches(inputs, targets, batchsize, shuffle=False):\n",
    "    assert len(inputs) == len(targets)\n",
    "    if shuffle:\n",
    "        indices = np.arange(len(inputs))\n",
    "        np.random.shuffle(indices)\n",
    "    for start_idx in range(0, len(inputs) - batchsize + 1, batchsize):\n",
    "        if shuffle:\n",
    "            excerpt = indices[start_idx:start_idx + batchsize]\n",
    "        else:\n",
    "            excerpt = slice(start_idx, start_idx + batchsize)\n",
    "        yield inputs[excerpt], targets[excerpt]\n",
    "\n",
    "EPOCH_NUM = 100\n",
    "BATCH_SIZE = 100\n",
    "\n",
    "from time import time\n",
    "# train network (assuming you've got some training data in numpy arrays)\n",
    "start_time = time()\n",
    "for epoch in range(EPOCH_NUM):\n",
    "    loss = 0\n",
    "    for input_batch, target_batch in iterate_minibatches(X_train, y_train, BATCH_SIZE):\n",
    "        loss += train_fn(input_batch, target_batch)\n",
    "    print(\"Epoch %d: Loss %g\" % (epoch + 1, loss / len(X_train)))\n",
    "end_time = time()\n",
    "print 'Training finished, Time: {}s'.format(end_time - start_time)"
   ]
  },
  {
   "cell_type": "code",
   "execution_count": null,
   "metadata": {},
   "outputs": [],
   "source": [
    "# use trained network for predictions\n",
    "test_prediction = lasagne.layers.get_output(network, deterministic=True)\n",
    "predict_fn = theano.function([input_var], T.argmax(test_prediction, axis=1))\n",
    "# print(\"Predicted class for first test input: %r\" % predict_fn(X_test))\n",
    "from sklearn.metrics import accuracy_score\n",
    "print accuracy_score(y_test, predict_fn(X_test))"
   ]
  },
  {
   "cell_type": "code",
   "execution_count": null,
   "metadata": {},
   "outputs": [],
   "source": []
  }
 ],
 "metadata": {
  "kernelspec": {
   "display_name": "Python 2",
   "language": "python",
   "name": "python2"
  },
  "language_info": {
   "codemirror_mode": {
    "name": "ipython",
    "version": 2
   },
   "file_extension": ".py",
   "mimetype": "text/x-python",
   "name": "python",
   "nbconvert_exporter": "python",
   "pygments_lexer": "ipython2",
   "version": "2.7.12"
  }
 },
 "nbformat": 4,
 "nbformat_minor": 2
}
