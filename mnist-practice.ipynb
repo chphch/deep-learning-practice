{
 "cells": [
  {
   "cell_type": "code",
   "execution_count": 9,
   "metadata": {},
   "outputs": [
    {
     "name": "stdout",
     "output_type": "stream",
     "text": [
      "(60000, 28, 28) (60000,) (10000, 28, 28) (10000,)\n",
      "(60000, 1, 28, 28) (60000,) (10000, 1, 28, 28) (10000,)\n"
     ]
    }
   ],
   "source": [
    "from keras.datasets import mnist\n",
    "import numpy as np\n",
    "\n",
    "BATCH_SIEZ = 128\n",
    "NUM_CLASSES = 10\n",
    "EPOCH_NUM = 12\n",
    "IMG_SIZE = (28, 28)\n",
    "\n",
    "(X_train, y_train), (X_test, y_test) = mnist.load_data()\n",
    "print X_train.shape, y_train.shape, X_test.shape, y_test.shape\n",
    "X_train = X_train.reshape(-1, 1, 28, 28).astype(np.float32)\n",
    "y_train = y_train.astype(np.int32)\n",
    "X_test = X_test.reshape(-1, 1, 28, 28).astype(np.float32)\n",
    "y_test = y_test.astype(np.int32)\n",
    "print X_train.shape, y_train.shape, X_test.shape, y_test.shape"
   ]
  },
  {
   "cell_type": "code",
   "execution_count": 10,
   "metadata": {
    "scrolled": false
   },
   "outputs": [
    {
     "name": "stdout",
     "output_type": "stream",
     "text": [
      "(None, 1, 28, 28)\n",
      "(None, 64, 26, 26)\n",
      "(None, 32, 24, 24)\n",
      "(None, 32, 11, 11)\n",
      "(None, 128)\n",
      "(None, 10)\n"
     ]
    }
   ],
   "source": [
    "import lasagne\n",
    "import theano\n",
    "import theano.tensor as T\n",
    "\n",
    "# create Theano variables for input and target minibatch\n",
    "input_var = T.tensor4('X')\n",
    "target_var = T.ivector('y')\n",
    "\n",
    "# create a small convolutional neural network\n",
    "from lasagne.nonlinearities import leaky_rectify, softmax\n",
    "network = lasagne.layers.InputLayer((None, 1, 28, 28), input_var)\n",
    "print network.output_shape\n",
    "network = lasagne.layers.Conv2DLayer(network, 64, (3, 3),\n",
    "                                     nonlinearity=leaky_rectify)\n",
    "print network.output_shape\n",
    "network = lasagne.layers.Conv2DLayer(network, 32, (3, 3),\n",
    "                                     nonlinearity=leaky_rectify)\n",
    "print network.output_shape\n",
    "network = lasagne.layers.Pool2DLayer(network, (3, 3), stride=2, mode='max')\n",
    "print network.output_shape\n",
    "network = lasagne.layers.DenseLayer(lasagne.layers.dropout(network, 0.5),\n",
    "                                    128, nonlinearity=leaky_rectify,\n",
    "                                    W=lasagne.init.Orthogonal())\n",
    "print network.output_shape\n",
    "network = lasagne.layers.DenseLayer(lasagne.layers.dropout(network, 0.5),\n",
    "                                    10, nonlinearity=softmax)\n",
    "print network.output_shape\n",
    "\n",
    "# create loss function\n",
    "prediction = lasagne.layers.get_output(network)\n",
    "loss = lasagne.objectives.categorical_crossentropy(prediction, target_var)\n",
    "loss = loss.mean() + 1e-4 * lasagne.regularization.regularize_network_params(\n",
    "        network, lasagne.regularization.l2)\n",
    "\n",
    "# create parameter update expressions\n",
    "params = lasagne.layers.get_all_params(network, trainable=True)\n",
    "updates = lasagne.updates.nesterov_momentum(loss, params, learning_rate=0.001,\n",
    "                                            momentum=0.9)\n",
    "\n",
    "# compile training function that updates parameters and returns training loss\n",
    "train_fn = theano.function([input_var, target_var], loss, updates=updates)"
   ]
  },
  {
   "cell_type": "code",
   "execution_count": 11,
   "metadata": {
    "scrolled": true
   },
   "outputs": [
    {
     "name": "stdout",
     "output_type": "stream",
     "text": [
      "Epoch 1: Loss 0.00814042\n",
      "Epoch 2: Loss 0.00266569\n",
      "Epoch 3: Loss 0.0020958\n",
      "Epoch 4: Loss 0.0018363\n",
      "Epoch 5: Loss 0.0016932\n",
      "Epoch 6: Loss 0.00159286\n",
      "Epoch 7: Loss 0.00144866\n",
      "Epoch 8: Loss 0.00139396\n",
      "Epoch 9: Loss 0.00129052\n",
      "Epoch 10: Loss 0.00124638\n",
      "Epoch 11: Loss 0.00122473\n",
      "Epoch 12: Loss 0.00118825\n",
      "Epoch 13: Loss 0.00113873\n",
      "Epoch 14: Loss 0.00115042\n",
      "Epoch 15: Loss 0.00107126\n",
      "Epoch 16: Loss 0.00106649\n",
      "Epoch 17: Loss 0.0010639\n",
      "Epoch 18: Loss 0.00102069\n",
      "Epoch 19: Loss 0.00100904\n",
      "Epoch 20: Loss 0.000983487\n",
      "Epoch 21: Loss 0.000977057\n",
      "Epoch 22: Loss 0.000941218\n",
      "Epoch 23: Loss 0.000959378\n",
      "Epoch 24: Loss 0.000919895\n",
      "Epoch 25: Loss 0.000906229\n",
      "Epoch 26: Loss 0.00090332\n",
      "Epoch 27: Loss 0.000882842\n",
      "Epoch 28: Loss 0.000872779\n",
      "Epoch 29: Loss 0.000850319\n",
      "Epoch 30: Loss 0.000855758\n",
      "Epoch 31: Loss 0.000843646\n",
      "Epoch 32: Loss 0.000799919\n",
      "Epoch 33: Loss 0.000827713\n",
      "Epoch 34: Loss 0.000810285\n",
      "Epoch 35: Loss 0.000800883\n",
      "Epoch 36: Loss 0.000805529\n",
      "Epoch 37: Loss 0.000803478\n",
      "Epoch 38: Loss 0.000765854\n",
      "Epoch 39: Loss 0.000780895\n",
      "Epoch 40: Loss 0.000771848\n",
      "Epoch 41: Loss 0.000732055\n",
      "Epoch 42: Loss 0.000742688\n",
      "Epoch 43: Loss 0.000715042\n",
      "Epoch 44: Loss 0.00071205\n",
      "Epoch 45: Loss 0.00072852\n",
      "Epoch 46: Loss 0.000722826\n",
      "Epoch 47: Loss 0.000725846\n",
      "Epoch 48: Loss 0.000702469\n",
      "Epoch 49: Loss 0.000727282\n",
      "Epoch 50: Loss 0.000698888\n",
      "Epoch 51: Loss 0.000693027\n",
      "Epoch 52: Loss 0.000682335\n",
      "Epoch 53: Loss 0.000686936\n",
      "Epoch 54: Loss 0.000688954\n",
      "Epoch 55: Loss 0.000672081\n",
      "Epoch 56: Loss 0.000660952\n",
      "Epoch 57: Loss 0.000676261\n",
      "Epoch 58: Loss 0.000668294\n",
      "Epoch 59: Loss 0.000673832\n",
      "Epoch 60: Loss 0.000667517\n",
      "Epoch 61: Loss 0.00065472\n",
      "Epoch 62: Loss 0.000676186\n",
      "Epoch 63: Loss 0.000646022\n",
      "Epoch 64: Loss 0.000627663\n",
      "Epoch 65: Loss 0.000649287\n",
      "Epoch 66: Loss 0.000641965\n",
      "Epoch 67: Loss 0.000642225\n",
      "Epoch 68: Loss 0.000634351\n",
      "Epoch 69: Loss 0.00063891\n",
      "Epoch 70: Loss 0.000616214\n",
      "Epoch 71: Loss 0.00061517\n",
      "Epoch 72: Loss 0.000609331\n",
      "Epoch 73: Loss 0.000582808\n",
      "Epoch 74: Loss 0.000602322\n",
      "Epoch 75: Loss 0.000598838\n",
      "Epoch 76: Loss 0.000599319\n",
      "Epoch 77: Loss 0.000579984\n",
      "Epoch 78: Loss 0.000609882\n",
      "Epoch 79: Loss 0.000576523\n",
      "Epoch 80: Loss 0.000583808\n",
      "Epoch 81: Loss 0.000583685\n",
      "Epoch 82: Loss 0.000561243\n",
      "Epoch 83: Loss 0.000573791\n",
      "Epoch 84: Loss 0.000573202\n",
      "Epoch 85: Loss 0.000549682\n",
      "Epoch 86: Loss 0.000551811\n",
      "Epoch 87: Loss 0.000574106\n",
      "Epoch 88: Loss 0.000572821\n",
      "Epoch 89: Loss 0.000557708\n",
      "Epoch 90: Loss 0.00054626\n",
      "Epoch 91: Loss 0.000549293\n",
      "Epoch 92: Loss 0.000542172\n",
      "Epoch 93: Loss 0.000538519\n",
      "Epoch 94: Loss 0.000551264\n",
      "Epoch 95: Loss 0.000537715\n",
      "Epoch 96: Loss 0.000535101\n",
      "Epoch 97: Loss 0.000556673\n",
      "Epoch 98: Loss 0.000523567\n",
      "Epoch 99: Loss 0.000534543\n",
      "Epoch 100: Loss 0.000536451\n",
      "Training finished, Time: 293.301138878s\n"
     ]
    }
   ],
   "source": [
    "def iterate_minibatches(inputs, targets, batchsize, shuffle=False):\n",
    "    assert len(inputs) == len(targets)\n",
    "    if shuffle:\n",
    "        indices = np.arange(len(inputs))\n",
    "        np.random.shuffle(indices)\n",
    "    for start_idx in range(0, len(inputs) - batchsize + 1, batchsize):\n",
    "        if shuffle:\n",
    "            excerpt = indices[start_idx:start_idx + batchsize]\n",
    "        else:\n",
    "            excerpt = slice(start_idx, start_idx + batchsize)\n",
    "        yield inputs[excerpt], targets[excerpt]\n",
    "\n",
    "EPOCH_NUM = 100\n",
    "BATCH_SIZE = 100\n",
    "\n",
    "from time import time\n",
    "# train network (assuming you've got some training data in numpy arrays)\n",
    "start_time = time()\n",
    "for epoch in range(EPOCH_NUM):\n",
    "    loss = 0\n",
    "    for input_batch, target_batch in iterate_minibatches(X_train, y_train, BATCH_SIZE):\n",
    "        loss += train_fn(input_batch, target_batch)\n",
    "    print(\"Epoch %d: Loss %g\" % (epoch + 1, loss / len(X_train)))\n",
    "end_time = time()\n",
    "print 'Training finished, Time: {}s'.format(end_time - start_time)"
   ]
  },
  {
   "cell_type": "code",
   "execution_count": 12,
   "metadata": {},
   "outputs": [
    {
     "name": "stdout",
     "output_type": "stream",
     "text": [
      "0.9936\n"
     ]
    }
   ],
   "source": [
    "# use trained network for predictions\n",
    "test_prediction = lasagne.layers.get_output(network, deterministic=True)\n",
    "predict_fn = theano.function([input_var], T.argmax(test_prediction, axis=1))\n",
    "# print(\"Predicted class for first test input: %r\" % predict_fn(X_test))\n",
    "from sklearn.metrics import accuracy_score\n",
    "print accuracy_score(y_test, predict_fn(X_test))"
   ]
  },
  {
   "cell_type": "code",
   "execution_count": null,
   "metadata": {},
   "outputs": [],
   "source": []
  }
 ],
 "metadata": {
  "kernelspec": {
   "display_name": "Python 2",
   "language": "python",
   "name": "python2"
  },
  "language_info": {
   "codemirror_mode": {
    "name": "ipython",
    "version": 2
   },
   "file_extension": ".py",
   "mimetype": "text/x-python",
   "name": "python",
   "nbconvert_exporter": "python",
   "pygments_lexer": "ipython2",
   "version": "2.7.15"
  }
 },
 "nbformat": 4,
 "nbformat_minor": 2
}
